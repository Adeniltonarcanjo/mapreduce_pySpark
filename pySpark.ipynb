{
 "cells": [
  {
   "cell_type": "markdown",
   "metadata": {},
   "source": [
    "## pySpark e MapReduce"
   ]
  },
  {
   "cell_type": "markdown",
   "metadata": {},
   "source": [
    "Pyspark é a ligação python para a plataforma spark e a API Spark , O python é dinamicamente tipado, portanto, os RDDS(Resilient Distributed Dataset) podem conter objetos de vários tipos. "
   ]
  },
  {
   "cell_type": "markdown",
   "metadata": {},
   "source": [
    "Quando executamos qualquer aplicativo spark, um programa driver que tem a função MAIN é iniciado e seu sparkcontext é iniciado também.\n"
   ]
  },
  {
   "cell_type": "markdown",
   "metadata": {},
   "source": [
    "O driver em seguida executa as operações dentro dos executores nos nós trabalhadores (worker nodes).\n"
   ]
  },
  {
   "cell_type": "markdown",
   "metadata": {},
   "source": [
    "O sparkcontext usa o PY4J para iniciar uma JVM e cria um JAVASPARKCONTEXT.\n",
    "Por padrão, o pyspark tem o sparkcontext disponivél como \"SC\", portanto, criar um novo sparcontext não funcionará. "
   ]
  },
  {
   "cell_type": "markdown",
   "metadata": {},
   "source": [
    "\n",
    "\n",
    "\n",
    "\n",
    "\n"
   ]
  },
  {
   "cell_type": "markdown",
   "metadata": {},
   "source": []
  },
  {
   "cell_type": "code",
   "execution_count": 42,
   "metadata": {},
   "outputs": [],
   "source": [
    "def load_movie_names(filename):\n",
    "    movie_names={}\n",
    "    with open(filename, encoding= 'ISO-8859-1') as f:\n",
    "        for line in f:\n",
    "            tokens=line.split('::')\n",
    "            key=int(tokens[0])\n",
    "            movie_names[key]=tokens[1]\n",
    "    return movie_names\n"
   ]
  },
  {
   "cell_type": "code",
   "execution_count": 43,
   "metadata": {},
   "outputs": [],
   "source": [
    "movie_names=load_movie_names('/Users/Dedei/Desktop/SD/trabalho 2/dados/movies.dat')"
   ]
  },
  {
   "cell_type": "code",
   "execution_count": 44,
   "metadata": {},
   "outputs": [],
   "source": [
    "lines=sc.textFile('/Users/Dedei/Desktop/SD/trabalho 2/dados/ratings.dat') # leitura das linhas do arquivo"
   ]
  },
  {
   "cell_type": "code",
   "execution_count": 45,
   "metadata": {},
   "outputs": [],
   "source": [
    "movies_ratings=lines.map(lambda x: (int(x.split('::')[1]),[float(x.split('::')[2]),1])) #gerando um par (movieId , [rating,1])"
   ]
  },
  {
   "cell_type": "code",
   "execution_count": 46,
   "metadata": {},
   "outputs": [],
   "source": [
    "movieCounts_ratings = movies_ratings.reduceByKey(lambda x, y: [x[0] + y[0],x[1]+y[1]])"
   ]
  },
  {
   "cell_type": "code",
   "execution_count": 47,
   "metadata": {},
   "outputs": [],
   "source": [
    "def media(x): return x[0] / x[1]"
   ]
  },
  {
   "cell_type": "code",
   "execution_count": 48,
   "metadata": {},
   "outputs": [],
   "source": [
    "total=movieCounts_ratings.mapValues(media) #gera o par (movie_id, rating)"
   ]
  },
  {
   "cell_type": "code",
   "execution_count": 49,
   "metadata": {},
   "outputs": [],
   "source": [
    "flipped=total.map(lambda kv: (kv[1], kv[0]))"
   ]
  },
  {
   "cell_type": "code",
   "execution_count": 50,
   "metadata": {},
   "outputs": [],
   "source": [
    "sortedMovies = flipped.sortByKey(False)"
   ]
  },
  {
   "cell_type": "code",
   "execution_count": 51,
   "metadata": {},
   "outputs": [],
   "source": [
    "results= sortedMovies.take(100)"
   ]
  },
  {
   "cell_type": "code",
   "execution_count": 52,
   "metadata": {},
   "outputs": [
    {
     "name": "stdout",
     "output_type": "stream",
     "text": [
      "Baby, The (1973) , 5.0\n",
      "Follow the Bitch (1998) , 5.0\n",
      "Ulysses (Ulisse) (1954) , 5.0\n",
      "Lured (1947) , 5.0\n",
      "Song of Freedom (1936) , 5.0\n",
      "Gate of Heavenly Peace, The (1995) , 5.0\n",
      "Schlafes Bruder (Brother of Sleep) (1995) , 5.0\n",
      "Bittersweet Motel (2000) , 5.0\n",
      "Smashing Time (1967) , 5.0\n",
      "One Little Indian (1973) , 5.0\n",
      "I Am Cuba (Soy Cuba/Ya Kuba) (1964) , 4.8\n",
      "Lamerica (1994) , 4.75\n",
      "Apple, The (Sib) (1998) , 4.67\n",
      "Sanjuro (1962) , 4.61\n",
      "Seven Samurai (The Magnificent Seven) (Shichinin no samurai) (1954) , 4.56\n",
      "Shawshank Redemption, The (1994) , 4.55\n",
      "Godfather, The (1972) , 4.52\n",
      "Close Shave, A (1995) , 4.52\n",
      "Usual Suspects, The (1995) , 4.52\n",
      "Schindler's List (1993) , 4.51\n",
      "Wrong Trousers, The (1993) , 4.51\n",
      "Hour of the Pig, The (1993) , 4.5\n",
      "Skipped Parts (2000) , 4.5\n",
      "Dry Cleaning (Nettoyage à sec) (1997) , 4.5\n",
      "Callejón de los milagros, El (1995) , 4.5\n",
      "Bells, The (1926) , 4.5\n",
      "Mamma Roma (1962) , 4.5\n",
      "Dangerous Game (1993) , 4.5\n",
      "Inheritors, The (Die Siebtelbauern) (1998) , 4.5\n",
      "Sunset Blvd. (a.k.a. Sunset Boulevard) (1950) , 4.49\n",
      "Raiders of the Lost Ark (1981) , 4.48\n",
      "Rear Window (1954) , 4.48\n",
      "Paths of Glory (1957) , 4.47\n",
      "Star Wars: Episode IV - A New Hope (1977) , 4.45\n",
      "Third Man, The (1949) , 4.45\n",
      "Dr. Strangelove or: How I Learned to Stop Worrying and Love the Bomb (1963) , 4.45\n",
      "For All Mankind (1989) , 4.44\n",
      "Wallace & Gromit: The Best of Aardman Animation (1996) , 4.43\n",
      "To Kill a Mockingbird (1962) , 4.43\n",
      "Double Indemnity (1944) , 4.42\n",
      "Casablanca (1942) , 4.41\n",
      "World of Apu, The (Apur Sansar) (1959) , 4.41\n",
      "Sixth Sense, The (1999) , 4.41\n",
      "Yojimbo (1961) , 4.4\n",
      "Pather Panchali (1955) , 4.4\n",
      "Lawrence of Arabia (1962) , 4.4\n",
      "Return with Honor (1998) , 4.4\n",
      "Maltese Falcon, The (1941) , 4.4\n",
      "One Flew Over the Cuckoo's Nest (1975) , 4.39\n",
      "Citizen Kane (1941) , 4.39\n",
      "City Lights (1931) , 4.39\n",
      "Bridge on the River Kwai, The (1957) , 4.39\n",
      "North by Northwest (1959) , 4.38\n",
      "Great Escape, The (1963) , 4.38\n",
      "General, The (1927) , 4.37\n",
      "Grand Day Out, A (1992) , 4.36\n",
      "Godfather: Part II, The (1974) , 4.36\n",
      "Bicycle Thief, The (Ladri di biciclette) (1948) , 4.36\n",
      "Hearts and Minds (1996) , 4.36\n",
      "Silence of the Lambs, The (1991) , 4.35\n",
      "To Live (Huozhe) (1994) , 4.34\n",
      "Grand Illusion (Grande illusion, La) (1937) , 4.34\n",
      "Chinatown (1974) , 4.34\n",
      "Saving Private Ryan (1998) , 4.34\n",
      "Creature Comforts (1990) , 4.34\n",
      "Monty Python and the Holy Grail (1974) , 4.34\n",
      "Jupiter's Wife (1994) , 4.33\n",
      "Soft Fruit (1999) , 4.33\n",
      "Manchurian Candidate, The (1962) , 4.33\n",
      "Life Is Beautiful (La Vita è bella) (1997) , 4.33\n",
      "Dersu Uzala (1974) , 4.33\n",
      "Jean de Florette (1986) , 4.32\n",
      "When We Were Kings (1996) , 4.32\n",
      "400 Blows, The (Les Quatre cents coups) (1959) , 4.32\n",
      "Sting, The (1973) , 4.32\n",
      "American Beauty (1999) , 4.32\n",
      "Matrix, The (1999) , 4.32\n",
      "Big Sleep, The (1946) , 4.31\n",
      "Celebration, The (Festen) (1998) , 4.31\n",
      "Strangers on a Train (1951) , 4.3\n",
      "Princess Bride, The (1987) , 4.3\n",
      "Boat, The (Das Boot) (1981) , 4.3\n",
      "M (1931) , 4.3\n",
      "Philadelphia Story, The (1940) , 4.3\n",
      "Some Like It Hot (1959) , 4.3\n",
      "West Beirut (West Beyrouth) (1998) , 4.3\n",
      "Time of the Gypsies (Dom za vesanje) (1989) , 4.3\n",
      "It's a Wonderful Life (1946) , 4.3\n",
      "12 Angry Men (1957) , 4.3\n",
      "Notorious (1946) , 4.29\n",
      "Star Wars: Episode V - The Empire Strikes Back (1980) , 4.29\n",
      "Treasure of the Sierra Madre, The (1948) , 4.29\n",
      "Palm Beach Story, The (1942) , 4.29\n",
      "Cinema Paradiso (1988) , 4.29\n",
      "Henry V (1989) , 4.29\n",
      "Central Station (Central do Brasil) (1998) , 4.28\n",
      "Kagemusha (1980) , 4.28\n",
      "Singin' in the Rain (1952) , 4.28\n",
      "It Happened One Night (1934) , 4.28\n",
      "Inherit the Wind (1960) , 4.28\n"
     ]
    }
   ],
   "source": [
    "for result in results:\n",
    "    key=result[1]\n",
    "    value=result[0]\n",
    "    print(movie_names[key],\",\", round(value, 2))"
   ]
  }
 ],
 "metadata": {
  "kernelspec": {
   "display_name": "Python 3",
   "language": "python",
   "name": "python3"
  },
  "language_info": {
   "codemirror_mode": {
    "name": "ipython",
    "version": 3
   },
   "file_extension": ".py",
   "mimetype": "text/x-python",
   "name": "python",
   "nbconvert_exporter": "python",
   "pygments_lexer": "ipython3",
   "version": "3.8.5"
  }
 },
 "nbformat": 4,
 "nbformat_minor": 4
}
