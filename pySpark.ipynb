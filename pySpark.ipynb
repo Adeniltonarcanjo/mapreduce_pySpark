{
 "cells": [
  {
   "cell_type": "markdown",
   "metadata": {},
   "source": [
    "## Contagem de palavra com pyspark "
   ]
  },
  {
   "cell_type": "markdown",
   "metadata": {},
   "source": [
    "Pyspark é a ligação python para a plataforma spark e a API Spark , O python é dinamicamente tipado, portanto, os RDDS(Resilient Distributed Dataset) podem conter objetos de vários tipos. "
   ]
  },
  {
   "cell_type": "markdown",
   "metadata": {},
   "source": [
    "Quando executamos qualquer aplicativo spark, um programa driver que tem a função MAIN é iniciado e seu sparkcontext é iniciado também.\n"
   ]
  },
  {
   "cell_type": "markdown",
   "metadata": {},
   "source": [
    "O driver em seguida executa as operações dentro dos executores nos nós trabalhadores (worker nodes).\n"
   ]
  },
  {
   "cell_type": "markdown",
   "metadata": {},
   "source": [
    "O sparkcontext usa o PY4J para iniciar uma JVM e cria um JAVASPARKCONTEXT.\n",
    "Por padrão, o pyspark tem o sparkcontext disponivél como \"SC\", portanto, criar um novo sparcontext não funcionará. "
   ]
  },
  {
   "cell_type": "markdown",
   "metadata": {},
   "source": [
    "\n",
    "\n",
    "\n",
    "\n",
    "\n"
   ]
  },
  {
   "cell_type": "code",
   "execution_count": 1,
   "metadata": {},
   "outputs": [],
   "source": [
    "import findspark\n",
    "findspark.init()\n",
    "import pyspark\n",
    "sc = pyspark.SparkContext()\n",
    "from pyspark import SparkConf, SparkContext"
   ]
  },
  {
   "cell_type": "code",
   "execution_count": 2,
   "metadata": {},
   "outputs": [],
   "source": [
    "def load_movie_names(filename):\n",
    "    movie_names={}\n",
    "    with open(filename, encoding= 'ISO-8859-1') as f:\n",
    "        for line in f:\n",
    "            tokens=line.split('::')\n",
    "            key=int(tokens[0])\n",
    "            movie_names[key]=tokens[1]\n",
    "    return movie_names\n"
   ]
  },
  {
   "cell_type": "code",
   "execution_count": 3,
   "metadata": {},
   "outputs": [],
   "source": [
    "movie_names=load_movie_names('/Users/Dedei/Desktop/SD/trabalho 2/dados/movies.dat')"
   ]
  },
  {
   "cell_type": "code",
   "execution_count": 4,
   "metadata": {},
   "outputs": [],
   "source": [
    "lines=sc.textFile('/Users/Dedei/Desktop/SD/trabalho 2/dados/ratings.dat') # leitura das linhas do arquivo"
   ]
  },
  {
   "cell_type": "code",
   "execution_count": 5,
   "metadata": {},
   "outputs": [],
   "source": [
    "movies_ratings=lines.map(lambda x: (int(x.split('::')[1]),float(x.split('::')[2]))) #gerando um par (movieId , rating)"
   ]
  },
  {
   "cell_type": "code",
   "execution_count": 6,
   "metadata": {},
   "outputs": [],
   "source": [
    "movieCounts_ratings = movies_ratings.reduceByKey(lambda x, y: ((x + y)/2)) #somando e dividiando o valor agrupado por movieId gerando pares (movieID,média)"
   ]
  },
  {
   "cell_type": "code",
   "execution_count": 7,
   "metadata": {},
   "outputs": [],
   "source": [
    "flipped=movieCounts_ratings.map(lambda kv: (kv[1], kv[0])) #invertemos a ordem de (movieId, rating) para (rating, movieId)"
   ]
  },
  {
   "cell_type": "code",
   "execution_count": 8,
   "metadata": {},
   "outputs": [],
   "source": [
    "sortedMovies = flipped.sortByKey(False)# ordem por chave"
   ]
  },
  {
   "cell_type": "code",
   "execution_count": 9,
   "metadata": {},
   "outputs": [],
   "source": [
    "results= sortedMovies.take(100) "
   ]
  },
  {
   "cell_type": "code",
   "execution_count": 10,
   "metadata": {},
   "outputs": [
    {
     "name": "stdout",
     "output_type": "stream",
     "text": [
      "Baby, The (1973) , 5.0\n",
      "Follow the Bitch (1998) , 5.0\n",
      "Ulysses (Ulisse) (1954) , 5.0\n",
      "Lured (1947) , 5.0\n",
      "Song of Freedom (1936) , 5.0\n",
      "Gate of Heavenly Peace, The (1995) , 5.0\n",
      "Schlafes Bruder (Brother of Sleep) (1995) , 5.0\n",
      "Bittersweet Motel (2000) , 5.0\n",
      "Smashing Time (1967) , 5.0\n",
      "One Little Indian (1973) , 5.0\n",
      "Schindler's List (1993) , 4.95\n",
      "Pather Panchali (1955) , 4.95\n",
      "Some Folks Call It a Sling Blade (1993) , 4.94\n",
      "World of Apu, The (Apur Sansar) (1959) , 4.92\n",
      "Rebecca (1940) , 4.89\n",
      "This Is Spinal Tap (1984) , 4.88\n",
      "I Am Cuba (Soy Cuba/Ya Kuba) (1964) , 4.88\n",
      "Sunset Blvd. (a.k.a. Sunset Boulevard) (1950) , 4.87\n",
      "Silence of the Lambs, The (1991) , 4.86\n",
      "Third Man, The (1949) , 4.83\n",
      "Postino, Il (The Postman) (1994) , 4.82\n",
      "Gold Rush, The (1925) , 4.8\n",
      "Manchurian Candidate, The (1962) , 4.8\n",
      "Taxi Driver (1976) , 4.8\n",
      "Paths of Glory (1957) , 4.8\n",
      "Dr. Strangelove or: How I Learned to Stop Worrying and Love the Bomb (1963) , 4.79\n",
      "On the Waterfront (1954) , 4.79\n",
      "Yojimbo (1961) , 4.78\n",
      "Hoop Dreams (1994) , 4.78\n",
      "Brazil (1985) , 4.78\n",
      "Aparajito (1956) , 4.78\n",
      "Treasure of the Sierra Madre, The (1948) , 4.77\n",
      "M (1931) , 4.76\n",
      "Wings of Desire (Der Himmel über Berlin) (1987) , 4.75\n",
      "Wizard of Oz, The (1939) , 4.74\n",
      "Wonderful, Horrible Life of Leni Riefenstahl, The (Die Macht der Bilder) (1993) , 4.74\n",
      "Lady Eve, The (1941) , 4.74\n",
      "Saving Private Ryan (1998) , 4.74\n",
      "Seven Samurai (The Magnificent Seven) (Shichinin no samurai) (1954) , 4.73\n",
      "Tampopo (1986) , 4.73\n",
      "Casablanca (1942) , 4.73\n",
      "City Lights (1931) , 4.72\n",
      "Shawshank Redemption, The (1994) , 4.72\n",
      "400 Blows, The (Les Quatre cents coups) (1959) , 4.71\n",
      "Big Sleep, The (1946) , 4.71\n",
      "Anne Frank Remembered (1995) , 4.71\n",
      "Gilda (1946) , 4.71\n",
      "Welcome to the Dollhouse (1995) , 4.7\n",
      "Midnight Cowboy (1969) , 4.7\n",
      "Great Dictator, The (1940) , 4.7\n",
      "All the King's Men (1949) , 4.69\n",
      "Some Like It Hot (1959) , 4.68\n",
      "To Kill a Mockingbird (1962) , 4.67\n",
      "Matewan (1987) , 4.67\n",
      "American Movie (1999) , 4.67\n",
      "Trial, The (Le Procès) (1963) , 4.67\n",
      "Children of Heaven, The (Bacheha-Ye Aseman) (1997) , 4.66\n",
      "Close Shave, A (1995) , 4.66\n",
      "Hate (Haine, La) (1995) , 4.66\n",
      "Braveheart (1995) , 4.66\n",
      "Psycho (1960) , 4.66\n",
      "Room at the Top (1959) , 4.66\n",
      "Suddenly, Last Summer (1959) , 4.66\n",
      "Great Escape, The (1963) , 4.65\n",
      "Last Picture Show, The (1971) , 4.64\n",
      "Cool Hand Luke (1967) , 4.64\n",
      "Streetcar Named Desire, A (1951) , 4.64\n",
      "Seven Days in May (1964) , 4.64\n",
      "Sleeper (1973) , 4.62\n",
      "Lawrence of Arabia (1962) , 4.61\n",
      "Firelight (1997) , 4.61\n",
      "Emma (1996) , 4.61\n",
      "Perfect Blue (1997) , 4.61\n",
      "Maltese Falcon, The (1941) , 4.61\n",
      "Bicycle Thief, The (Ladri di biciclette) (1948) , 4.6\n",
      "Wallace & Gromit: The Best of Aardman Animation (1996) , 4.59\n",
      "Clockwork Orange, A (1971) , 4.59\n",
      "Double Indemnity (1944) , 4.59\n",
      "Remember the Titans (2000) , 4.59\n",
      "Guns of Navarone, The (1961) , 4.58\n",
      "Chungking Express (1994) , 4.58\n",
      "Arguing the World (1996) , 4.58\n",
      "Apocalypse Now (1979) , 4.58\n",
      "Producers, The (1968) , 4.57\n",
      "Player, The (1992) , 4.57\n",
      "Fresh (1994) , 4.57\n",
      "Frequency (2000) , 4.57\n",
      "Tarzan (1999) , 4.57\n",
      "East-West (Est-ouest) (1999) , 4.57\n",
      "Christmas Carol, A (1938) , 4.57\n",
      "Snow White and the Seven Dwarfs (1937) , 4.57\n",
      "Raging Bull (1980) , 4.56\n",
      "Lone Star (1996) , 4.56\n",
      "Apple, The (Sib) (1998) , 4.56\n",
      "Thin Blue Line, The (1988) , 4.56\n",
      "Wrong Trousers, The (1993) , 4.56\n",
      "2001: A Space Odyssey (1968) , 4.56\n",
      "Ideal Husband, An (1999) , 4.56\n",
      "Grand Illusion (Grande illusion, La) (1937) , 4.56\n",
      "North by Northwest (1959) , 4.55\n"
     ]
    }
   ],
   "source": [
    "for result in results:\n",
    "    key=result[1]\n",
    "    value=result[0]\n",
    "    print(movie_names[key],\",\", round(value, 2))"
   ]
  }
 ],
 "metadata": {
  "kernelspec": {
   "display_name": "Python 3",
   "language": "python",
   "name": "python3"
  },
  "language_info": {
   "codemirror_mode": {
    "name": "ipython",
    "version": 3
   },
   "file_extension": ".py",
   "mimetype": "text/x-python",
   "name": "python",
   "nbconvert_exporter": "python",
   "pygments_lexer": "ipython3",
   "version": "3.8.5"
  }
 },
 "nbformat": 4,
 "nbformat_minor": 4
}
